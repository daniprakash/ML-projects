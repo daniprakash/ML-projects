{
 "cells": [
  {
   "cell_type": "markdown",
   "metadata": {},
   "source": [
    "Simple Sentiment Analysis using TextBlob"
   ]
  },
  {
   "cell_type": "code",
   "execution_count": 100,
   "metadata": {},
   "outputs": [
    {
     "name": "stdout",
     "output_type": "stream",
     "text": [
      "[nltk_data] Downloading package brown to\n",
      "[nltk_data]     C:\\Users\\JEPRSDD\\AppData\\Roaming\\nltk_data...\n",
      "[nltk_data]   Package brown is already up-to-date!\n"
     ]
    },
    {
     "data": {
      "text/plain": [
       "True"
      ]
     },
     "execution_count": 100,
     "metadata": {},
     "output_type": "execute_result"
    }
   ],
   "source": [
    "from textblob import TextBlob #importing the library textblob\n",
    "import nltk\n",
    "nltk.download('brown')\n",
    "  "
   ]
  },
  {
   "cell_type": "code",
   "execution_count": 101,
   "metadata": {},
   "outputs": [
    {
     "name": "stdout",
     "output_type": "stream",
     "text": [
      "1.the sentences in the text are\n",
      "[Sentence(\"Danny is good boy.\"), Sentence(\"Dani is sad.\"), Sentence(\"Paris and London are beautiful cities.\")]\n",
      "2.the words in the text are\n",
      "['Danny', 'is', 'good', 'boy', 'Dani', 'is', 'sad', 'Paris', 'and', 'London', 'are', 'beautiful', 'cities']\n",
      "3.the noun phrases in the text are\n",
      "['danny', 'good boy', 'dani', 'paris', 'london', 'beautiful cities']\n",
      "4.the sentiment in the text is\n",
      "Sentiment(polarity=-0.5, subjectivity=1.0)\n",
      "5.the sentiment in the text is\n",
      "0.3499999999999999\n",
      "6.the language detected is: \n",
      "en\n",
      "7.the language translated from en(english) to fr(french): \n",
      "Danny est un bon garçon. Dani est triste. Paris et Londres sont de belles villes.\n"
     ]
    }
   ],
   "source": [
    "\n",
    "text =( \"Danny is good boy. \"\n",
    "        \"Dani is sad. \"\n",
    "        \"Paris and London are beautiful cities. \") #assigning the text variable with the text\n",
    "\n",
    "obj = TextBlob(text)#\n",
    "sen = obj.sentences\n",
    "print(\"1.the sentences in the text are\")\n",
    "   \n",
    "print(obj.sentences)\n",
    "print(\"2.the words in the text are\")\n",
    "\n",
    "\n",
    "print(obj.words)\n",
    "print(\"3.the noun phrases in the text are\")\n",
    "  \n",
    "print(obj.noun_phrases)\n",
    "print(\"4.the sentiment in the text is\")\n",
    "  \n",
    "print(sentence.sentiment)\n",
    "print(\"5.the sentiment in the text is\")\n",
    "sentiment = obj.sentiment.polarity \n",
    "print(sentiment) #printing the sentiment scale from 0-1\n",
    "\n",
    "print(\"6.the language detected is: \")\n",
    "print(obj.detect_language())\n",
    "\n",
    "print(\"7.the language translated from en(english) to fr(french): \")\n",
    "print(obj.translate(to=\"fr\"))"
   ]
  }
 ],
 "metadata": {
  "kernelspec": {
   "display_name": "Python 3",
   "language": "python",
   "name": "python3"
  },
  "language_info": {
   "codemirror_mode": {
    "name": "ipython",
    "version": 3
   },
   "file_extension": ".py",
   "mimetype": "text/x-python",
   "name": "python",
   "nbconvert_exporter": "python",
   "pygments_lexer": "ipython3",
   "version": "3.6.4"
  }
 },
 "nbformat": 4,
 "nbformat_minor": 2
}
